{
  "nbformat": 4,
  "nbformat_minor": 0,
  "metadata": {
    "colab": {
      "provenance": []
    },
    "kernelspec": {
      "name": "python3",
      "display_name": "Python 3"
    },
    "language_info": {
      "name": "python"
    }
  },
  "cells": [
    {
      "cell_type": "code",
      "execution_count": null,
      "metadata": {
        "id": "2GoHZDPeYzLg"
      },
      "outputs": [],
      "source": []
    },
    {
      "cell_type": "markdown",
      "source": [
        "#Data Science Tools and Ecosystem"
      ],
      "metadata": {
        "id": "zJ68f789bjjN"
      }
    },
    {
      "cell_type": "code",
      "source": [],
      "metadata": {
        "id": "X6Xa8GzKbo16"
      },
      "execution_count": null,
      "outputs": []
    },
    {
      "cell_type": "markdown",
      "source": [
        "#In this notebook, Data Science Tools and Ecosystem are summarized."
      ],
      "metadata": {
        "id": "PwVWRxQZdhB3"
      }
    },
    {
      "cell_type": "code",
      "source": [],
      "metadata": {
        "id": "mH8WXqG-djMJ"
      },
      "execution_count": null,
      "outputs": []
    },
    {
      "cell_type": "markdown",
      "source": [
        "**Objectives:**\n",
        "- List popular languages for Data Science.\n",
        "- List commonly used libraries in Data Science.\n",
        "- Demonstrate examples of arithmetic expressions in Python.\n"
      ],
      "metadata": {
        "id": "-yy3rXdpkDw2"
      }
    },
    {
      "cell_type": "markdown",
      "source": [
        "#Some of the popular languages that Data Scientists use are:\n",
        "## 1. Python\n",
        "## 2. R\n",
        "## 3. SQL"
      ],
      "metadata": {
        "id": "ACkbB4EMd1ZW"
      }
    },
    {
      "cell_type": "code",
      "source": [],
      "metadata": {
        "id": "7SSwDUjxeBpI"
      },
      "execution_count": null,
      "outputs": []
    },
    {
      "cell_type": "markdown",
      "source": [
        "## Some of the commonly used libraries used by Data Scientists include:\n",
        "## 1. Pandas\n",
        "## 2. Numpy\n",
        "## 3. SciKit-Learn"
      ],
      "metadata": {
        "id": "uCNYNuM6exLY"
      }
    },
    {
      "cell_type": "code",
      "source": [],
      "metadata": {
        "id": "n29k2hJFfBRh"
      },
      "execution_count": null,
      "outputs": []
    },
    {
      "cell_type": "markdown",
      "source": [
        "| Data Science Tools |\n",
        "|--------------------|\n",
        "| Jupyter Notebook   |\n",
        "| RStudio            |\n",
        "| Google Colab       |\n"
      ],
      "metadata": {
        "id": "axHLCSJTfkKE"
      }
    },
    {
      "cell_type": "code",
      "source": [],
      "metadata": {
        "id": "5KiIolx3fm04"
      },
      "execution_count": null,
      "outputs": []
    },
    {
      "cell_type": "markdown",
      "source": [
        "### Below are a few examples of evaluating arithmetic expressions in Python."
      ],
      "metadata": {
        "id": "LygXuwehgDst"
      }
    },
    {
      "cell_type": "code",
      "source": [
        "# This is a simple arithmetic expression to multiply then add integers.\n",
        "(3 * 4) + 5\n"
      ],
      "metadata": {
        "colab": {
          "base_uri": "https://localhost:8080/"
        },
        "id": "sRjUSXZggFJl",
        "outputId": "3c957c28-9929-46e8-97f5-99c091b41f9a"
      },
      "execution_count": 1,
      "outputs": [
        {
          "output_type": "execute_result",
          "data": {
            "text/plain": [
              "17"
            ]
          },
          "metadata": {},
          "execution_count": 1
        }
      ]
    },
    {
      "cell_type": "code",
      "source": [
        "# This will convert 200 minutes to hours by dividing by 60.\n",
        "200 / 60\n"
      ],
      "metadata": {
        "colab": {
          "base_uri": "https://localhost:8080/"
        },
        "id": "L6liowb2hIrm",
        "outputId": "dc32a893-c060-442e-c9a9-4af1c135003e"
      },
      "execution_count": 2,
      "outputs": [
        {
          "output_type": "execute_result",
          "data": {
            "text/plain": [
              "3.3333333333333335"
            ]
          },
          "metadata": {},
          "execution_count": 2
        }
      ]
    },
    {
      "cell_type": "markdown",
      "source": [
        "## Author\n",
        "[Daniel Reyes Frez]\n"
      ],
      "metadata": {
        "id": "9ZI1izO4kaZK"
      }
    },
    {
      "cell_type": "code",
      "source": [],
      "metadata": {
        "id": "JPTiIxOGkfpl"
      },
      "execution_count": null,
      "outputs": []
    }
  ]
}